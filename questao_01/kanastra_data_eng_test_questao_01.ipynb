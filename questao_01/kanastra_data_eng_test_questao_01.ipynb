{
  "cells": [
    {
      "cell_type": "markdown",
      "metadata": {
        "id": "sVq0VlWv_rYC"
      },
      "source": [
        "# **1 - New York Taxi Trips**\n",
        "- Qual ***vendor*** realizou mais viagens e a quantidade de viagens feitas agrupando os dados por estações do ano(outono, inverno, primavera e verão).\n",
        "- Qual ***vendor*** percorreu a maior distância e a soma das distâncias em cada estação do ano.\n",
        "- Qual o tipo de pagamento mais utilizado em casa estação do ano independente do ***vendor***.\n",
        "\n",
        "**Entrega:**\n",
        "\n",
        "Um documento SQL que cria tabelas, carrega as informações do dataset no banco e uma query que retorna as informações listadas acima, sugerimos a utilização do [DB Fiddle](https://www.db-fiddle.com/), avaliação será feita com Postgres 9.6."
      ]
    },
    {
      "cell_type": "markdown",
      "metadata": {
        "id": "Hecd1i_xZXrn"
      },
      "source": [
        "# Preparação do Ambiente"
      ]
    },
    {
      "cell_type": "code",
      "execution_count": null,
      "metadata": {
        "colab": {
          "base_uri": "https://localhost:8080/"
        },
        "id": "5LBKhX3JE13t",
        "outputId": "765e4dfd-c48d-46f7-e94a-dee2e5505b85"
      },
      "outputs": [],
      "source": [
        "# install postgresql\n",
        "!wget --quiet -O - https://www.postgresql.org/media/keys/ACCC4CF8.asc | sudo apt-key add -\n",
        "!echo \"deb http://apt.postgresql.org/pub/repos/apt/ $(lsb_release -cs)-pgdg main\" | sudo tee /etc/apt/sources.list.d/postgresql-pgdg.list > /dev/null\n",
        "!sudo apt update -y -q\n",
        "!sudo apt install postgresql-9.6 -q\n"
      ]
    },
    {
      "cell_type": "code",
      "execution_count": null,
      "metadata": {
        "colab": {
          "base_uri": "https://localhost:8080/"
        },
        "id": "YUY2haqX_lSc",
        "outputId": "dd0cb6c3-7f6b-4354-ce7b-3750c35aac23"
      },
      "outputs": [],
      "source": [
        "# Start server\n",
        "!service postgresql start\n",
        "!sudo -u postgres psql -c \"CREATE USER root WITH SUPERUSER\"\n",
        "!\\set autocommit on"
      ]
    },
    {
      "cell_type": "code",
      "execution_count": null,
      "metadata": {
        "colab": {
          "base_uri": "https://localhost:8080/",
          "height": 70
        },
        "id": "k1b_DKTMEdaC",
        "outputId": "9acf874f-f318-4205-fe10-25f2376a01cf"
      },
      "outputs": [],
      "source": [
        "# Setup client with magic\n",
        "%load_ext sql\n",
        "%config SqlMagic.feedback=False \n",
        "%config SqlMagic.autopandas=True\n",
        "%sql postgresql+psycopg2://@/postgres"
      ]
    },
    {
      "cell_type": "code",
      "execution_count": null,
      "metadata": {
        "colab": {
          "base_uri": "https://localhost:8080/",
          "height": 98
        },
        "id": "JXUQrDXgEey4",
        "outputId": "3f5cfc5f-3701-42d6-c5c3-75fc20b626f0"
      },
      "outputs": [],
      "source": [
        "%%sql\n",
        "SELECT version();"
      ]
    },
    {
      "cell_type": "code",
      "execution_count": null,
      "metadata": {
        "colab": {
          "base_uri": "https://localhost:8080/"
        },
        "id": "395igEcwZhyF",
        "outputId": "4e02ebbb-560b-4d89-83f1-4a5844052ad1"
      },
      "outputs": [],
      "source": [
        "!pip install --upgrade --no-cache-dir gdown"
      ]
    },
    {
      "cell_type": "code",
      "execution_count": null,
      "metadata": {
        "colab": {
          "base_uri": "https://localhost:8080/"
        },
        "id": "sEM-rivHN5SE",
        "outputId": "835e69ed-a196-4083-813c-09f3f75db66d"
      },
      "outputs": [],
      "source": [
        "!gdown '1DOvZ-lUlRwyc8jStSSe4Ps0kncHSvhkT'\n",
        "!gdown '1ilCYiB72T8UPerLiku1c6qdRh94vAUhK'\n",
        "!gdown '1-UD_8gnTO1UwW-ZQYbW-2WXlwAK7wsl4'\n",
        "!gdown '10eAuCp7pdUzmBj1SuN_zae3Vo59Wsrfy'\n",
        "!ls -lt"
      ]
    },
    {
      "cell_type": "code",
      "execution_count": null,
      "metadata": {
        "colab": {
          "base_uri": "https://localhost:8080/"
        },
        "id": "9uJ2RSv69cv6",
        "outputId": "c133bdd5-064b-4573-ac0d-dd3126b762cc"
      },
      "outputs": [],
      "source": [
        "!rm -rf /tmp/datasets\n",
        "! mkdir /tmp/datasets\n",
        "!cp data-nyctaxi-trips-2009.json /tmp/datasets\n",
        "!cp data-nyctaxi-trips-2010.json /tmp/datasets\n",
        "!cp data-nyctaxi-trips-2011.json /tmp/datasets\n",
        "!cp data-nyctaxi-trips-2012.json /tmp/datasets\n",
        "\n",
        "!sudo chown -R postgres:postgres /tmp/datasets/*\n",
        "\n",
        "!ls -lt /tmp/datasets/"
      ]
    },
    {
      "cell_type": "markdown",
      "metadata": {
        "id": "d2bTS6rPyjR4"
      },
      "source": [
        "---\n",
        "\n",
        "# DDL"
      ]
    },
    {
      "cell_type": "code",
      "execution_count": null,
      "metadata": {
        "colab": {
          "base_uri": "https://localhost:8080/",
          "height": 98
        },
        "id": "ux2opnKF1L3t",
        "outputId": "4fe1e86b-cb0d-4881-c1c7-9ac81b59133d"
      },
      "outputs": [],
      "source": [
        "%%sql\n",
        " SELECT current_database();"
      ]
    },
    {
      "cell_type": "code",
      "execution_count": null,
      "metadata": {
        "colab": {
          "base_uri": "https://localhost:8080/",
          "height": 66
        },
        "id": "tMLtzElmK0vX",
        "outputId": "0a22edd3-0762-49ac-fbe5-a2ed43efd560"
      },
      "outputs": [],
      "source": [
        "%%sql \n",
        "DROP TABLE IF EXISTS temp;\n",
        "CREATE TABLE temp (data JSONB);"
      ]
    },
    {
      "cell_type": "code",
      "execution_count": null,
      "metadata": {
        "colab": {
          "base_uri": "https://localhost:8080/"
        },
        "id": "TGvCZJO5JC34",
        "outputId": "623ec56e-66af-4c2e-9021-357e103f1b2e"
      },
      "outputs": [],
      "source": [
        "!psql -U root -d postgres -c \"\\COPY temp (data) FROM '/tmp/datasets/data-nyctaxi-trips-2009.json';\"\n",
        "!psql -U root -d postgres -c \"\\COPY temp (data) FROM '/tmp/datasets/data-nyctaxi-trips-2010.json';\"\n",
        "!psql -U root -d postgres -c \"\\COPY temp (data) FROM '/tmp/datasets/data-nyctaxi-trips-2011.json';\"\n",
        "!psql -U root -d postgres -c \"\\COPY temp (data) FROM '/tmp/datasets/data-nyctaxi-trips-2012.json';\""
      ]
    },
    {
      "cell_type": "code",
      "execution_count": null,
      "metadata": {
        "colab": {
          "base_uri": "https://localhost:8080/",
          "height": 98
        },
        "id": "ZkBdRVrxO2mP",
        "outputId": "f595c7ca-2501-4107-afec-06dcf03253c7"
      },
      "outputs": [],
      "source": [
        "# Validation\n",
        "# 2.96 s ± 133 ms per loop (mean ± std. dev. of 7 runs, 1 loop each)\n",
        "# 16.7 s ± 1.92 s per loop (mean ± std. dev. of 7 runs, 1 loop each)\n",
        "%%sql\n",
        "SELECT data->>'pickup_datetime'\n",
        "FROM temp\n",
        "ORDER BY data->>'pickup_datetime' ASC\n",
        "LIMIT 1;"
      ]
    },
    {
      "cell_type": "code",
      "execution_count": null,
      "metadata": {
        "colab": {
          "base_uri": "https://localhost:8080/",
          "height": 98
        },
        "id": "tT1SvDMZJhxf",
        "outputId": "3fc7daaf-def2-4a38-ba44-6e1e940a5065"
      },
      "outputs": [],
      "source": [
        "# Validation\n",
        "%%sql\n",
        "SELECT data->>'pickup_datetime'\n",
        "FROM temp\n",
        "ORDER BY data->>'pickup_datetime' DESC\n",
        "LIMIT 1;"
      ]
    },
    {
      "cell_type": "markdown",
      "metadata": {
        "id": "QX72gx5hRPG3"
      },
      "source": [
        "### Inserindo o JSON data dentro de uma table"
      ]
    },
    {
      "cell_type": "code",
      "execution_count": null,
      "metadata": {
        "colab": {
          "base_uri": "https://localhost:8080/",
          "height": 66
        },
        "id": "iHRveKb4Pdvu",
        "outputId": "996fe5e2-7549-4936-c578-2c10f0ca2323"
      },
      "outputs": [],
      "source": [
        "%%sql\n",
        "DROP TABLE IF EXISTS trips;"
      ]
    },
    {
      "cell_type": "code",
      "execution_count": null,
      "metadata": {
        "colab": {
          "base_uri": "https://localhost:8080/",
          "height": 631
        },
        "id": "L6qtjjO6Fq5X",
        "outputId": "1c975ee1-7939-42eb-e551-0d97bf622831"
      },
      "outputs": [],
      "source": [
        "%%sql\n",
        "CREATE TABLE trips (\n",
        "    id SERIAL,\n",
        "    vendor_id VARCHAR(3),\n",
        "    pickup_datetime TIMESTAMP WITH TIME ZONE,\n",
        "    dropoff_datetime TIMESTAMP WITH TIME ZONE,\n",
        "    passenger_count SMALLINT,\n",
        "    trip_distance NUMERIC,\n",
        "    pickup_longitude NUMERIC,\n",
        "    pickup_latitude NUMERIC,\n",
        "    rate_code SMALLINT,\n",
        "    store_and_fwd_flag TEXT,\n",
        "    dropoff_longitude NUMERIC,\n",
        "    dropoff_latitude NUMERIC,\n",
        "    payment_type VARCHAR(10),\n",
        "    fare_amount NUMERIC,\n",
        "    surcharge NUMERIC,\n",
        "    tip_amount NUMERIC,\n",
        "    tolls_amount NUMERIC,\n",
        "    total_amount NUMERIC,\n",
        "    CONSTRAINT PK_id PRIMARY KEY (id)\n",
        ");\n",
        "\n",
        "SELECT \n",
        "\tcolumn_name,\n",
        "  data_type\n",
        "FROM information_schema.columns\n",
        "WHERE table_name = 'trips';"
      ]
    },
    {
      "cell_type": "markdown",
      "metadata": {
        "id": "MlE6Bc-Ld_oK"
      },
      "source": [
        "---\n",
        "\n",
        "# DML"
      ]
    },
    {
      "cell_type": "code",
      "execution_count": null,
      "metadata": {
        "colab": {
          "base_uri": "https://localhost:8080/",
          "height": 66
        },
        "id": "QxaqSRU6Ni0R",
        "outputId": "04c9bf10-6510-485e-c17f-76a90f978995"
      },
      "outputs": [],
      "source": [
        "# JSONB: 56.1 s ± 2.08 s per loop (mean ± std. dev. of 7 runs, 1 loop each)\n",
        "# JSON: 4min 59s ± 8.52 s per loop (mean ± std. dev. of 7 runs, 1 loop each)\n",
        "%%sql\n",
        "INSERT INTO trips (\n",
        "    vendor_id,\n",
        "    pickup_datetime,\n",
        "    dropoff_datetime,\n",
        "    passenger_count,\n",
        "    trip_distance,\n",
        "    pickup_longitude,\n",
        "    pickup_latitude,\n",
        "    rate_code,\n",
        "    store_and_fwd_flag,\n",
        "    dropoff_longitude,\n",
        "    dropoff_latitude,\n",
        "    payment_type,\n",
        "    fare_amount,\n",
        "    surcharge,\n",
        "    tip_amount,\n",
        "    tolls_amount,\n",
        "    total_amount\n",
        ")\n",
        "(\n",
        "  SELECT \n",
        "    (data->> 'vendor_id')::varchar(3),\n",
        "    (data->> 'pickup_datetime')::timestamp with time zone,\n",
        "    (data->> 'dropoff_datetime')::timestamp with time zone,\n",
        "    (data->> 'passenger_count')::smallint,\n",
        "    (data->> 'trip_distance')::numeric,\n",
        "    (data->> 'pickup_longitude')::numeric,\n",
        "    (data->> 'pickup_latitude')::numeric,\n",
        "    (data->> 'rate_code')::smallint,\n",
        "    (data->> 'store_and_fwd_flag')::text,\n",
        "    (data->> 'dropoff_longitude')::numeric,\n",
        "    (data->> 'dropoff_latitude')::numeric,\n",
        "    (data->> 'payment_type')::varchar(10),\n",
        "    (data->> 'fare_amount')::numeric,\n",
        "    (data->> 'surcharge')::numeric,\n",
        "    (data->> 'tip_amount')::numeric,\n",
        "    (data->> 'tolls_amount')::numeric,\n",
        "    (data->> 'total_amount')::numeric\n",
        "  FROM temp\n",
        ");"
      ]
    },
    {
      "cell_type": "code",
      "execution_count": null,
      "metadata": {
        "colab": {
          "base_uri": "https://localhost:8080/",
          "height": 228
        },
        "id": "6mFMseIiN3C4",
        "outputId": "36867232-c141-4b62-810e-6d935e202cce"
      },
      "outputs": [],
      "source": [
        "# Validation\n",
        "%%sql\n",
        "SELECT * FROM trips\n",
        "LIMIT 2;"
      ]
    },
    {
      "cell_type": "code",
      "execution_count": null,
      "metadata": {
        "colab": {
          "base_uri": "https://localhost:8080/",
          "height": 66
        },
        "id": "HG52Dl3GwISn",
        "outputId": "99556a2b-659d-4e53-bee5-b53ac245e15e"
      },
      "outputs": [],
      "source": [
        "%%sql\n",
        "DROP TABLE temp;"
      ]
    },
    {
      "cell_type": "markdown",
      "metadata": {
        "id": "rpAS2CIapQf7"
      },
      "source": [
        "## **Qual vendor realizou mais viagens e a quantidade de viagens feitas agrupando os dados por estações do ano(outono, inverno, primavera e verão)**"
      ]
    },
    {
      "cell_type": "code",
      "execution_count": null,
      "metadata": {
        "colab": {
          "base_uri": "https://localhost:8080/",
          "height": 192
        },
        "id": "vgVsAEg6wjs_",
        "outputId": "90ed59a4-5e8c-4f55-d433-83fdf05332da"
      },
      "outputs": [],
      "source": [
        "# To get the seasons, I took the column pickup_datetime\n",
        "%%sql\n",
        "WITH seasons AS (\n",
        "    SELECT\n",
        "        CASE\n",
        "            WHEN date_part('month', pickup_datetime) IN (12, 1, 2) THEN 'Verão'\n",
        "            WHEN date_part('month', pickup_datetime) IN (3, 4, 5) THEN 'Outono'\n",
        "            WHEN date_part('month', pickup_datetime) IN (6, 7, 8) THEN 'Inverno'\n",
        "            WHEN date_part('month', pickup_datetime) IN (9, 10, 11) THEN 'Primavera'\n",
        "        END AS estacao,\n",
        "        vendor_id AS vendor,\n",
        "        COUNT(*) as total_viagens\n",
        "    FROM trips\n",
        "    GROUP BY estacao, vendor_id\n",
        "    ORDER BY estacao, total_viagens DESC\n",
        "),\n",
        "rank_vendors_by_seasons AS (\n",
        "  SELECT\n",
        "    estacao,\n",
        "    vendor,\n",
        "    total_viagens,\n",
        "    DENSE_RANK() OVER (PARTITION BY estacao ORDER BY total_viagens DESC) as rank\n",
        "  FROM seasons\n",
        ")\n",
        "\n",
        "SELECT \n",
        "    vendor,    \n",
        "    total_viagens,\n",
        "    estacao\n",
        "FROM rank_vendors_by_seasons\n",
        "WHERE rank = 1;"
      ]
    },
    {
      "cell_type": "code",
      "execution_count": null,
      "metadata": {
        "colab": {
          "base_uri": "https://localhost:8080/",
          "height": 192
        },
        "id": "JBnkgjLdZL_m",
        "outputId": "59046718-646c-4fd4-b0d1-800243e97429"
      },
      "outputs": [],
      "source": [
        "# Validation\n",
        "%%sql\n",
        "SELECT\n",
        "  vendor_id, \n",
        "  COUNT(vendor_id) AS total_viagens\n",
        "FROM trips\n",
        "GROUP BY vendor_id\n",
        "ORDER BY total_viagens DESC"
      ]
    },
    {
      "cell_type": "markdown",
      "metadata": {
        "id": "WFcBpo2p0tHr"
      },
      "source": [
        "## **Qual vendor percorreu a maior distância e a soma das distâncias em cada estação do ano**"
      ]
    },
    {
      "cell_type": "code",
      "execution_count": null,
      "metadata": {
        "colab": {
          "base_uri": "https://localhost:8080/",
          "height": 192
        },
        "id": "z4GjK7yx0vFw",
        "outputId": "c4a9d10d-31a9-49bc-a102-368fbd1fea1f"
      },
      "outputs": [],
      "source": [
        "# To get the distances traveled, I took the col col trip_distance\n",
        "%%sql\n",
        "WITH seasons AS (\n",
        "    SELECT\n",
        "        CASE\n",
        "            WHEN date_part('month', pickup_datetime) IN (12, 1, 2) THEN 'Verão'\n",
        "            WHEN date_part('month', pickup_datetime) IN (3, 4, 5) THEN 'Outono'\n",
        "            WHEN date_part('month', pickup_datetime) IN (6, 7, 8) THEN 'Inverno'\n",
        "            WHEN date_part('month', pickup_datetime) IN (9, 10, 11) THEN 'Primavera'\n",
        "        END AS estacao,\n",
        "        vendor_id AS vendor,\n",
        "        SUM(trip_distance) as total_distancia\n",
        "    FROM trips\n",
        "    GROUP BY estacao, vendor_id\n",
        "    ORDER BY estacao, total_distancia DESC\n",
        "),\n",
        "rank_trip_distance_by_seasons AS (\n",
        "    SELECT \n",
        "      estacao,\n",
        "      vendor,\n",
        "      total_distancia,\n",
        "      DENSE_RANK() OVER (PARTITION BY estacao ORDER BY total_distancia DESC) as rank\n",
        "  FROM seasons\n",
        ")\n",
        "SELECT \n",
        "    vendor,\n",
        "    total_distancia,\n",
        "    estacao\n",
        "FROM rank_trip_distance_by_seasons\n",
        "WHERE rank = 1;"
      ]
    },
    {
      "cell_type": "code",
      "execution_count": null,
      "metadata": {
        "colab": {
          "base_uri": "https://localhost:8080/",
          "height": 192
        },
        "id": "AEsQ3hKe4VIR",
        "outputId": "12fef61f-0157-46e7-b99c-abf2cdaded88"
      },
      "outputs": [],
      "source": [
        "# Validation\n",
        "%%sql\n",
        "SELECT \n",
        "  vendor_id, \n",
        "  SUM(trip_distance) as total_distancia\n",
        "FROM trips\n",
        "GROUP BY vendor_id\n",
        "ORDER BY total_distancia DESC"
      ]
    },
    {
      "cell_type": "markdown",
      "metadata": {
        "id": "9ae1m5Ck6oOc"
      },
      "source": [
        "## **Qual o tipo de pagamento mais utilizado em casa estação do ano independente do vendor**"
      ]
    },
    {
      "cell_type": "code",
      "execution_count": null,
      "metadata": {
        "colab": {
          "base_uri": "https://localhost:8080/",
          "height": 192
        },
        "id": "kZMVNr1D6qAX",
        "outputId": "75246049-ef16-4261-b02a-cadc28662372"
      },
      "outputs": [],
      "source": [
        "%%sql\n",
        "WITH seasons AS (\n",
        "    SELECT\n",
        "        CASE\n",
        "            WHEN date_part('month', pickup_datetime) IN (12, 1, 2) THEN 'Verão'\n",
        "            WHEN date_part('month', pickup_datetime) IN (3, 4, 5) THEN 'Outono'\n",
        "            WHEN date_part('month', pickup_datetime) IN (6, 7, 8) THEN 'Inverno'\n",
        "            WHEN date_part('month', pickup_datetime) IN (9, 10, 11) THEN 'Primavera'\n",
        "        END AS estacao,\n",
        "        UPPER(payment_type) tipo_pagamento,\n",
        "        COUNT(*) as total_pagamento\n",
        "    FROM trips\n",
        "    GROUP BY estacao, tipo_pagamento\n",
        "    ORDER BY estacao, total_pagamento DESC\n",
        "),\n",
        "rank_payment_type_by_seasons AS (\n",
        "  SELECT \n",
        "    estacao,\n",
        "    tipo_pagamento,\n",
        "    DENSE_RANK() OVER (PARTITION BY estacao ORDER BY total_pagamento DESC) as rank\n",
        "  FROM seasons\n",
        ")\n",
        "SELECT \n",
        "    estacao,\n",
        "    tipo_pagamento\n",
        "FROM rank_payment_type_by_seasons\n",
        "WHERE rank = 1;"
      ]
    },
    {
      "cell_type": "code",
      "execution_count": null,
      "metadata": {
        "colab": {
          "base_uri": "https://localhost:8080/",
          "height": 255
        },
        "id": "FRn4Jm_LF8Ms",
        "outputId": "a0e9c244-e6b3-4d1b-f927-904ae3104627"
      },
      "outputs": [],
      "source": [
        "# Validatin\n",
        "%%sql\n",
        "SELECT \n",
        "  payment_type, \n",
        "  COUNT(*) as total_pagamento\n",
        "FROM trips\n",
        "GROUP BY payment_type\n",
        "ORDER BY total_pagamento DESC"
      ]
    },
    {
      "cell_type": "markdown",
      "metadata": {
        "id": "5zzCt9mOYOuV"
      },
      "source": [
        "---"
      ]
    }
  ],
  "metadata": {
    "colab": {
      "collapsed_sections": [
        "Hecd1i_xZXrn",
        "d2bTS6rPyjR4",
        "QX72gx5hRPG3",
        "rpAS2CIapQf7",
        "WFcBpo2p0tHr",
        "9ae1m5Ck6oOc"
      ],
      "provenance": []
    },
    "kernelspec": {
      "display_name": "Python 3",
      "language": "python",
      "name": "python3"
    },
    "language_info": {
      "name": "python",
      "version": "3.9.7 (default, Jun 22 2022, 20:11:26) \n[GCC 11.2.0]"
    },
    "vscode": {
      "interpreter": {
        "hash": "916dbcbb3f70747c44a77c7bcd40155683ae19c65e1c03b4aa3499c5328201f1"
      }
    }
  },
  "nbformat": 4,
  "nbformat_minor": 0
}
