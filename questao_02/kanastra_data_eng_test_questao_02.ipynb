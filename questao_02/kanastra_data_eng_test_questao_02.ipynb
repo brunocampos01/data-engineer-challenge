{
  "cells": [
    {
      "cell_type": "markdown",
      "metadata": {
        "id": "YmH0LEyMYRWo"
      },
      "source": [
        "# **2 - ETL**\n",
        "Também utilizando os dados de viagens de táxi realizadas em New York, agora vamos construir um processo ETL, este será responsável por escrever um output com as seguintes informações e características:\n",
        "\n",
        "- Qual vendor mais viajou de táxi em cada ano\n",
        "**Critério de desempate:** quem percorreu o maior percurso, ordem alfabética dos nomes\n",
        "- Qual a semana de cada ano que mais teve viagens de táxi.\n",
        "- Quantas viagens o vendor com mais viagens naquele ano fez na semana com mais viagens de táxi no ano.\n",
        "\n",
        "**O que esperamos:**\n",
        "\n",
        "- Fundamentos de linguagem de programação e estruturas de dados\n",
        "- Boas práticas de programação\n",
        "- Código limpo e simples de entender\n",
        "\n",
        "**Entrega:**\n",
        "\n",
        "O entregável desse exercício será um pacote .zip com o código e o output de execução do ETL em formato CSV. Atente-se a deixar descrito um passo a passo de como executar a sua solução.\n",
        "\n",
        "**Bônus:** Deixe comentários no código explicando o que você estava pensando no momento em que escreveu aquele bloco de código."
      ]
    },
    {
      "cell_type": "markdown",
      "metadata": {
        "id": "snoZIvxfYdK5"
      },
      "source": [
        "## Preparação do Ambiente"
      ]
    },
    {
      "cell_type": "code",
      "execution_count": null,
      "metadata": {
        "id": "8eE9G8gxggey"
      },
      "outputs": [],
      "source": [
        "!pip install --upgrade --no-cache-dir gdown"
      ]
    },
    {
      "cell_type": "code",
      "execution_count": null,
      "metadata": {
        "id": "jeJcMvoAmeIF"
      },
      "outputs": [],
      "source": [
        "!gdown '1DOvZ-lUlRwyc8jStSSe4Ps0kncHSvhkT'\n",
        "!gdown '1ilCYiB72T8UPerLiku1c6qdRh94vAUhK'\n",
        "!gdown '1-UD_8gnTO1UwW-ZQYbW-2WXlwAK7wsl4'\n",
        "!gdown '10eAuCp7pdUzmBj1SuN_zae3Vo59Wsrfy'\n",
        "!ls -lt"
      ]
    },
    {
      "cell_type": "markdown",
      "metadata": {
        "id": "CekyLXefYy5G"
      },
      "source": [
        "## Load Data"
      ]
    },
    {
      "cell_type": "code",
      "execution_count": null,
      "metadata": {
        "id": "soxGZwLKYfJ6"
      },
      "outputs": [],
      "source": [
        "import pandas as pd\n",
        "import glob"
      ]
    },
    {
      "cell_type": "code",
      "execution_count": null,
      "metadata": {
        "id": "HgjfCT9wYP6Z"
      },
      "outputs": [],
      "source": [
        "# Use glob to find all JSON files in a directory\n",
        "json_files = glob.glob('data-nyctaxi-trips-20*.json')\n",
        "\n",
        "df = pd.concat([pd.read_json(file, lines=True) for file in json_files],\n",
        "               ignore_index=True)"
      ]
    },
    {
      "cell_type": "markdown",
      "metadata": {
        "id": "cQeL60kOgTAS"
      },
      "source": [
        "## Entendendo o Dataset\n",
        "O código desta sessão eu fiz para entender melhor os datasets, contudo não deixaria isso para um ambiente de produção."
      ]
    },
    {
      "cell_type": "code",
      "execution_count": null,
      "metadata": {
        "id": "LgX4e-ycZZ3P"
      },
      "outputs": [],
      "source": [
        "print(\"Dataframe:\\n{} rows\\n{} columns\"\n",
        "      .format(df.shape[0],\n",
        "              df.shape[1]))"
      ]
    },
    {
      "cell_type": "code",
      "execution_count": null,
      "metadata": {
        "id": "388HfVDJgYJ4"
      },
      "outputs": [],
      "source": [
        "df.info()"
      ]
    },
    {
      "cell_type": "code",
      "execution_count": null,
      "metadata": {
        "id": "f8uX0pnjg7wX"
      },
      "outputs": [],
      "source": [
        "df.index"
      ]
    },
    {
      "cell_type": "code",
      "execution_count": null,
      "metadata": {
        "id": "GrxcVWI1gxRt"
      },
      "outputs": [],
      "source": [
        "df.head(3)"
      ]
    },
    {
      "cell_type": "code",
      "execution_count": null,
      "metadata": {
        "id": "TU9wx7k2hIZ5"
      },
      "outputs": [],
      "source": [
        "df.nunique()"
      ]
    },
    {
      "cell_type": "code",
      "execution_count": null,
      "metadata": {
        "id": "zcyGJXpJfGcf"
      },
      "outputs": [],
      "source": [
        "df.query(\"vendor_id == 'TS'\")"
      ]
    },
    {
      "cell_type": "markdown",
      "metadata": {
        "id": "yDargj3puFjj"
      },
      "source": [
        "## Preparação de Algumas Variáveis\n",
        "Esta variáveis serão utilizadas em mais de um lugar."
      ]
    },
    {
      "cell_type": "code",
      "execution_count": null,
      "metadata": {
        "id": "4PO3Wxk2tyo-"
      },
      "outputs": [],
      "source": [
        "# Convert the 'pickup_datetime' column to datetime\n",
        "df['pickup_datetime'] = pd.to_datetime(df['pickup_datetime'])\n",
        "\n",
        "# Extract the year from the 'pickup_datetime' column\n",
        "df['year'] = df['pickup_datetime'].dt.isocalendar().year\n",
        "df['week'] = df['pickup_datetime'].dt.isocalendar().week"
      ]
    },
    {
      "cell_type": "markdown",
      "metadata": {
        "id": "tlj_l6LFQRD_"
      },
      "source": [
        "## **Qual vendor mais viajou de táxi em cada ano**\n",
        "### Critério de desempate: quem percorreu o maior percurso, ordem alfabética dos nomes\n",
        "\n",
        "Para facilitar o entendimento criarei 2 dataframes, um para calcular o total de trips por ano e outro para somar o trip_distance por ano:\n",
        "- `df_grouped_total_trips` (principal)\n",
        "- `df_grouped_sum_trips_dist` (critério de desempate)\n",
        "\n",
        "<br/>\n",
        "\n",
        "Depois irei fazer um `merge()` para aplicar o critério de desempate no df principal. Por fim, irei retornar o nome e ano de cada vendor "
      ]
    },
    {
      "cell_type": "code",
      "execution_count": null,
      "metadata": {
        "id": "SSIIFO5FZiDg"
      },
      "outputs": [],
      "source": [
        "# Group the data by year and vendor_id and calculate the total of the trips\n",
        "# size(): count the number of trips in each group\n",
        "df_grouped_total_trips = df\\\n",
        "  .groupby(['year', 'vendor_id'])\\\n",
        "  .size()\\\n",
        "  .reset_index(name='counts')\n",
        "\n",
        "# Group by year and vendor_id and calculate the sum of the trip_distance\n",
        "df_grouped_sum_trips_dist = df\\\n",
        "  .groupby(['year','vendor_id'])\\\n",
        "  ['trip_distance']\\\n",
        "  .sum()\\\n",
        "  .reset_index(name='trip_distance')"
      ]
    },
    {
      "cell_type": "code",
      "execution_count": null,
      "metadata": {
        "id": "3QgQ75g5W-QK"
      },
      "outputs": [],
      "source": [
        "merged_df = df_grouped_total_trips.merge(df_grouped_sum_trips_dist,\n",
        "                                         on=['year', 'vendor_id'])"
      ]
    },
    {
      "cell_type": "code",
      "execution_count": null,
      "metadata": {
        "id": "z_onZGZGazCg"
      },
      "outputs": [],
      "source": [
        "# Apply tie-breaker\n",
        "df_vendor_more_trip = merged_df.sort_values(by=['year','counts','trip_distance'], \n",
        "                                            ascending=[True,False,False])\n",
        "\n",
        "# Get the first element by year\n",
        "df_vendor_more_trip_by_year = df_vendor_more_trip\\\n",
        "  .groupby('year')\\\n",
        "  .first()\\\n",
        "  .reset_index()"
      ]
    },
    {
      "cell_type": "code",
      "execution_count": null,
      "metadata": {
        "id": "Ycod5U_AGI3w"
      },
      "outputs": [],
      "source": [
        "# Prepare df\n",
        "df_vendor_more_trip_by_year.rename(columns={'vendor_id': 'vendor_more_trip'}, inplace=True)\n",
        "\n",
        "df_vendor_more_trip_by_year = df_vendor_more_trip_by_year[['year', 'vendor_more_trip']]"
      ]
    },
    {
      "cell_type": "markdown",
      "metadata": {
        "id": "b-tkkIG-iZPe"
      },
      "source": [
        "## **Qual a semana de cada ano que mais teve viagens de táxi**"
      ]
    },
    {
      "cell_type": "code",
      "execution_count": null,
      "metadata": {
        "id": "5kzWvewOibOT"
      },
      "outputs": [],
      "source": [
        "# Group the data by year and week\n",
        "df_grouped_year_week = df\\\n",
        "  .groupby(['year', 'week'])\\\n",
        "  .size()\\\n",
        "  .reset_index(name='counts')\n",
        "\n",
        "# Order the data by year, counts and week\n",
        "df_order_by_year_week = df_grouped_year_week\\\n",
        "  .sort_values(by=['year', 'counts', 'week'],\n",
        "               ascending=[True, False, True])\n",
        "  \n",
        "# Get the first element by year\n",
        "df_week_more_trips_by_year = df_order_by_year_week\\\n",
        "  .groupby('year')\\\n",
        "  .first()\\\n",
        "  .reset_index()"
      ]
    },
    {
      "cell_type": "code",
      "execution_count": null,
      "metadata": {
        "id": "OP39XIUUcQxJ"
      },
      "outputs": [],
      "source": [
        "# Prepare\n",
        "df_week_more_trips_by_year.rename(columns={'week': 'week_more_trips'}, inplace=True)\n",
        "\n",
        "df_week_more_trips_by_year = df_week_more_trips_by_year[['year', 'week_more_trips']]"
      ]
    },
    {
      "cell_type": "markdown",
      "metadata": {
        "id": "uxDLjFtrdEBw"
      },
      "source": [
        "## **Quantas viagens o vendor com mais viagens naquele ano fez na semana com mais viagens de táxi no ano**\n",
        "Para resolver este problema vou separar em parte:\n",
        "1. Obter vendors com mais viagens por ano: `df_vendor_most_trip_by_year`\n",
        "2. Obter semana com mais trips por ano: `df_week_more_trips_by_year`\n",
        "3. Obter em cada ano, a semana com mais viagens: `df_week_more_trips`\n",
        "4. Obter o total de trips pelo vendor com mais trips no ano: `total_trips_week_per_vendor`\n"
      ]
    },
    {
      "cell_type": "code",
      "execution_count": null,
      "metadata": {
        "id": "kAHz5RM8E7m-"
      },
      "outputs": [],
      "source": [
        "years = df_week_more_trips_by_year['year']\n",
        "weeks = df_week_more_trips_by_year['week_more_trips']\n",
        "vendors = df_vendor_more_trip_by_year['vendor_more_trip']"
      ]
    },
    {
      "cell_type": "code",
      "execution_count": null,
      "metadata": {
        "id": "lCMtOBuWlj2v"
      },
      "outputs": [],
      "source": [
        "dict_trips_vendor = {}\n",
        "\n",
        "for year, week, vendor in zip(years, weeks, vendors):\n",
        "  df_year = df.loc[df['year'] == year]\n",
        "  df_week_more_trips = df_year.loc[df['week'] == week]\n",
        "  total_trips_week_vendor = df_week_more_trips['vendor_id'].loc[df['vendor_id'] == vendor].count()\n",
        "\n",
        "  dict_trips_vendor[year] = total_trips_week_vendor"
      ]
    },
    {
      "cell_type": "code",
      "execution_count": null,
      "metadata": {
        "id": "91lnmrPiEo40"
      },
      "outputs": [],
      "source": [
        "# Prepare df\n",
        "df_total_trips_vendor = pd.DataFrame(dict_trips_vendor.items(), columns=['year', 'total_trips_per_week'])"
      ]
    },
    {
      "cell_type": "code",
      "execution_count": null,
      "metadata": {
        "id": "wJLgXGrAQT_G"
      },
      "outputs": [],
      "source": [
        "df_result = df_vendor_more_trip_by_year\\\n",
        "  .merge(df_week_more_trips_by_year)\\\n",
        "  .merge(df_total_trips_vendor)\n",
        "\n",
        "df_result"
      ]
    },
    {
      "cell_type": "code",
      "execution_count": null,
      "metadata": {
        "id": "NNqhhYgrOICE"
      },
      "outputs": [],
      "source": [
        "df_result.to_csv(path_or_buf = 'output_etl.csv',\n",
        "                 sep = ',',\n",
        "                 index = False,\n",
        "                 encoding = 'utf8')"
      ]
    },
    {
      "cell_type": "markdown",
      "metadata": {
        "id": "Anuv-6oBG_ZG"
      },
      "source": [
        "---\n",
        "\n",
        "## Observações e Resultado\n",
        "- Utilizei Pandas para o input, analise e processamento da questão. Caso o volume fosse maior utilizaria Spark.\n",
        "- Imaginando uma orquestração com este notebook, seria necessário  ter algum bucket ou folder onde possa ser feito a leitura dos arquivos. Sobre o scheduling, poderia executar essa ETL a cada semana pois é o menor valor necessário nas métricas. Apache Airflow pode ser uma boa escolha para orquestração.\n",
        "- Terminei o notebook limpando o ambiente e exibindo o arquivo csv no terminal.\n"
      ]
    },
    {
      "cell_type": "code",
      "execution_count": null,
      "metadata": {
        "id": "ZSlcHtZpF7aM"
      },
      "outputs": [],
      "source": [
        "!rm -rf data-nyctaxi-trips*.json"
      ]
    },
    {
      "cell_type": "code",
      "execution_count": null,
      "metadata": {
        "id": "eS_AtILcR0iO"
      },
      "outputs": [],
      "source": [
        "!ls -lt"
      ]
    },
    {
      "cell_type": "code",
      "execution_count": null,
      "metadata": {
        "id": "EvYAWLCoR3YY"
      },
      "outputs": [],
      "source": [
        "!cat 'output_etl.csv'"
      ]
    },
    {
      "cell_type": "markdown",
      "metadata": {
        "id": "FfFbLEKITQxf"
      },
      "source": [
        "---"
      ]
    }
  ],
  "metadata": {
    "colab": {
      "collapsed_sections": [
        "snoZIvxfYdK5",
        "CekyLXefYy5G",
        "cQeL60kOgTAS",
        "yDargj3puFjj",
        "tlj_l6LFQRD_",
        "b-tkkIG-iZPe",
        "uxDLjFtrdEBw"
      ],
      "provenance": []
    },
    "kernelspec": {
      "display_name": "Python 3",
      "language": "python",
      "name": "python3"
    },
    "language_info": {
      "name": "python",
      "version": "3.9.7 (default, Jun 22 2022, 20:11:26) \n[GCC 11.2.0]"
    },
    "vscode": {
      "interpreter": {
        "hash": "916dbcbb3f70747c44a77c7bcd40155683ae19c65e1c03b4aa3499c5328201f1"
      }
    }
  },
  "nbformat": 4,
  "nbformat_minor": 0
}
